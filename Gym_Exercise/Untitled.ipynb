{
 "cells": [
  {
   "cell_type": "code",
   "execution_count": 1,
   "metadata": {},
   "outputs": [
    {
     "name": "stdout",
     "output_type": "stream",
     "text": [
      "[[0 0 0]\n",
      " [0 0 0]\n",
      " [0 0 0]]\n",
      "episode_reward: 0 \tn_steps: 5\n"
     ]
    }
   ],
   "source": [
    "import gym\n",
    "import gym_ttt\n",
    "import numpy as np\n",
    "\n",
    "\n",
    "def main():\n",
    "    env = gym.make(\"TTT-v0\")\n",
    "    done = False\n",
    "    # reward of the whole episode\n",
    "    episode_reward = 0\n",
    "    n_steps = 0\n",
    "    # get the initial state of the environment\n",
    "    state = env.reset()\n",
    "    while not done:\n",
    "        action, n_free_pos = env.sample()\n",
    "        next_state, reward, done, info = env.step(action)\n",
    "        episode_reward += reward\n",
    "        state = next_state\n",
    "        n_steps += 1\n",
    "    print(state)\n",
    "    print(\n",
    "        \"episode_reward:\", episode_reward,\n",
    "        \"\\tn_steps:\", n_steps)\n",
    "\n",
    "\n",
    "if __name__ == \"__main__\":\n",
    "    main()\n",
    "\n"
   ]
  },
  {
   "cell_type": "code",
   "execution_count": 11,
   "metadata": {},
   "outputs": [
    {
     "name": "stdout",
     "output_type": "stream",
     "text": [
      "[[1 0 0]\n",
      " [0 0 0]\n",
      " [0 0 0]]\n",
      "episode_reward: 0 \tn_steps: 5\n"
     ]
    }
   ],
   "source": [
    "%run main.py\n"
   ]
  }
 ],
 "metadata": {
  "kernelspec": {
   "display_name": "Python 3",
   "language": "python",
   "name": "python3"
  },
  "language_info": {
   "codemirror_mode": {
    "name": "ipython",
    "version": 3
   },
   "file_extension": ".py",
   "mimetype": "text/x-python",
   "name": "python",
   "nbconvert_exporter": "python",
   "pygments_lexer": "ipython3",
   "version": "3.7.6"
  }
 },
 "nbformat": 4,
 "nbformat_minor": 4
}
